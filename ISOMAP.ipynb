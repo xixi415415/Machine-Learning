{
 "cells": [
  {
   "cell_type": "code",
   "execution_count": 1,
   "metadata": {
    "collapsed": false
   },
   "outputs": [
    {
     "name": "stdout",
     "output_type": "stream",
     "text": [
      "开始降维.....\n",
      "降维完成\n",
      "[[ 2.61466002  2.18835545]\n",
      " [ 2.75613403  3.14133525]\n",
      " [ 3.00716162 -5.18498516]\n",
      " [-8.37795639 -0.14470614]]\n"
     ]
    }
   ],
   "source": [
    "import numpy as np\n",
    "import matplotlib.pyplot as plt\n",
    "import sys\n",
    " \n",
    "def distancematrix(test):\n",
    "    leng=len(test)\n",
    "    resmat=np.zeros([leng,leng],np.float32)\n",
    "    for i in range(leng):\n",
    "      for j in range(leng):\n",
    "          resmat[i,j]=np.linalg.norm(test[i]-test[j])\n",
    "    return resmat #返回距离矩阵\n",
    "def mds(test,deg):\n",
    "    length= len(test)\n",
    "    re= np.zeros((length, length),np.float32)\n",
    "    if(deg>length):\n",
    "        deg=length\n",
    "    D= distancematrix(test)\n",
    "    ss = 1.0 /length ** 2 * np.sum(D ** 2)\n",
    "    for i in range(length):\n",
    "        for j in range(length):\n",
    "            re[i, j] = -0.5 * (D[i, j] ** 2 - 1.0 / length * np.dot(D[i, :], D[i, :]) - 1.0 / length * np.dot(D[:, j], D[:, j]) + ss)\n",
    " \n",
    "    A, V = np.linalg.eig(re)\n",
    "    list_idx = np.argpartition(A, deg- 1)[-deg:]\n",
    "    a = np.diag(np.maximum(A[list_idx], 0.0))\n",
    "    return np.matmul(V[:, list_idx], np.sqrt(a))\n",
    "# 使用 Dijkstra 算法获取最短路径，并更新距离矩阵\n",
    "# test: 距离矩阵，大小 m * m\n",
    "# start：最短路径的起始点，范围 0 到 m-1\n",
    "def usedijk(test, start):\n",
    "    count = len(test)\n",
    "    col= test[start].copy()\n",
    "    rem = count - 1\n",
    "    while rem > 0:\n",
    "        i= np.argpartition(col, 1)[1]\n",
    "        length = test[start][i]\n",
    "        for j in range(count):\n",
    "            if test[start][j] > length + test[i][j]:\n",
    "                test[start][j] = length + test[i][j]\n",
    "                test[j][start] = test[start][j]\n",
    "        rem -= 1\n",
    "        col[i] = float('inf')\n",
    " \n",
    "# isomap 算法的具体实现\n",
    "# test：需要降维的矩阵\n",
    "# target：目标维度\n",
    "# k：k 近邻算法中的超参数\n",
    "# return：降维后的矩阵\n",
    "def isomap(test, target, k):\n",
    "    inf = float('inf')\n",
    "    count = len(test)\n",
    "    if k >= count:\n",
    "        raise ValueError('K is too large')\n",
    "    mat_distance = distancematrix(test)\n",
    "    knear = np.ones([count, count], np.float32) * inf\n",
    "    for idx in range(count):\n",
    "        topk = np.argpartition(mat_distance[idx], k)[:k + 1]\n",
    "        knear[idx][topk] = mat_distance[idx][topk]\n",
    "    for idx in range(count):\n",
    "        usedijk(knear, idx)\n",
    "    return mds(knear, target)\n",
    " \n",
    "if __name__ == '__main__':\n",
    "    print('开始降维.....')\n",
    "    D =np.array([[1,2,3,4],[2,1,5,6],[3,5,1,7],[4,6,7,1]]) #test data\n",
    "    outcome= isomap(D, 2, 3)\n",
    "    sys.stdout.write('降维完成\\n')\n",
    "    print(outcome) \n",
    " \n",
    " \n"
   ]
  },
  {
   "cell_type": "code",
   "execution_count": null,
   "metadata": {
    "collapsed": true
   },
   "outputs": [],
   "source": []
  }
 ],
 "metadata": {
  "anaconda-cloud": {},
  "kernelspec": {
   "display_name": "Python [conda root]",
   "language": "python",
   "name": "conda-root-py"
  },
  "language_info": {
   "codemirror_mode": {
    "name": "ipython",
    "version": 3
   },
   "file_extension": ".py",
   "mimetype": "text/x-python",
   "name": "python",
   "nbconvert_exporter": "python",
   "pygments_lexer": "ipython3",
   "version": "3.5.2"
  }
 },
 "nbformat": 4,
 "nbformat_minor": 1
}
