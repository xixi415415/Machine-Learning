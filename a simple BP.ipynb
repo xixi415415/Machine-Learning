{
 "cells": [
  {
   "cell_type": "code",
   "execution_count": 2,
   "metadata": {
    "collapsed": false
   },
   "outputs": [
    {
     "name": "stdout",
     "output_type": "stream",
     "text": [
      "(4, 3)\n",
      "(4, 1)\n"
     ]
    }
   ],
   "source": [
    "import numpy as np  \n",
    "  \n",
    "def nonlin(x,deriv=False):  \n",
    "    if(deriv==True):  \n",
    "        return x*(1-x)  \n",
    "  \n",
    "    return 1/(1+np.exp(-x))  \n",
    "      \n",
    "X = np.array([[0,0,1],  \n",
    "            [0,1,1],  \n",
    "            [1,0,1],  \n",
    "            [1,1,1]]) \n",
    "print (X.shape )\n",
    "                  \n",
    "y = np.array([[0],  \n",
    "            [1],  \n",
    "            [1],  \n",
    "            [0]])  \n",
    "print (y.shape)\n",
    "np.random.seed(1) "
   ]
  },
  {
   "cell_type": "code",
   "execution_count": 3,
   "metadata": {
    "collapsed": false
   },
   "outputs": [
    {
     "name": "stdout",
     "output_type": "stream",
     "text": [
      "[[-0.16595599  0.44064899 -0.99977125 -0.39533485]\n",
      " [-0.70648822 -0.81532281 -0.62747958 -0.30887855]\n",
      " [-0.20646505  0.07763347 -0.16161097  0.370439  ]]\n",
      "[[-0.5910955 ]\n",
      " [ 0.75623487]\n",
      " [-0.94522481]\n",
      " [ 0.34093502]]\n",
      "(3, 4)\n",
      "(4, 1)\n"
     ]
    }
   ],
   "source": [
    "# randomly initialize our weights with mean 0  \n",
    "w0 = 2*np.random.random((3,4)) - 1  \n",
    "w1 = 2*np.random.random((4,1)) - 1\n",
    "print (w0)\n",
    "print (w1)  \n",
    "print (w0.shape)\n",
    "print (w1.shape)"
   ]
  },
  {
   "cell_type": "code",
   "execution_count": 4,
   "metadata": {
    "collapsed": false
   },
   "outputs": [
    {
     "name": "stdout",
     "output_type": "stream",
     "text": [
      "Error:0.496410031903\n",
      "Error:0.00858452565325\n",
      "Error:0.00578945986251\n",
      "Error:0.00462917677677\n",
      "Error:0.00395876528027\n",
      "Error:0.00351012256786\n",
      "Error:0.00318350238587\n",
      "Error:0.00293230634228\n",
      "Error:0.00273150641821\n",
      "Error:0.00256631724004\n",
      "Error:0.00242737608676\n",
      "Error:0.00230843116063\n",
      "Error:0.00220512937522\n",
      "Error:0.0021143350549\n",
      "Error:0.00203372513685\n",
      "Error:0.0019615374333\n",
      "Error:0.00189640799228\n",
      "Error:0.00183726256167\n",
      "Error:0.00178324211169\n",
      "Error:0.00173365047411\n",
      "Error:0.00168791673859\n",
      "Error:0.00164556773349\n",
      "Error:0.00160620754556\n",
      "Error:0.00156950204663\n",
      "Error:0.00153516704308\n",
      "Error:0.00150295908734\n",
      "Error:0.00147266827279\n",
      "Error:0.00144411252553\n",
      "Error:0.00141713303921\n",
      "Error:0.00139159059198\n",
      "Error:0.00136736255113\n",
      "Error:0.00134434041876\n",
      "Error:0.0013224278067\n",
      "Error:0.00130153875482\n",
      "Error:0.0012815963259\n",
      "Error:0.00126253142507\n",
      "Error:0.00124428180241\n",
      "Error:0.00122679120632\n",
      "Error:0.00121000866125\n",
      "Error:0.0011938878489\n",
      "Error:0.00117838657578\n",
      "Error:0.00116346631326\n",
      "Error:0.00114909179874\n",
      "Error:0.00113523068857\n",
      "Error:0.00112185325496\n",
      "Error:0.00110893212046\n",
      "Error:0.00109644202464\n",
      "Error:0.0010843596184\n",
      "Error:0.00107266328223\n",
      "Error:0.0010613329651\n",
      "Error:0.00105035004128\n",
      "Error:0.00103969718287\n",
      "Error:0.00102935824592\n",
      "Error:0.00101931816854\n",
      "Error:0.00100956287955\n",
      "Error:0.00100007921631\n",
      "Error:0.000990854850745\n",
      "Error:0.000981878222658\n",
      "Error:0.000973138479336\n",
      "Error:0.000964625420924\n"
     ]
    }
   ],
   "source": [
    "for j in range(600000):  \n",
    "  \n",
    "     \n",
    "    l0 = X  \n",
    "    l1 = nonlin(np.dot(l0,w0))  \n",
    "    l2 = nonlin(np.dot(l1,w1))  \n",
    "  \n",
    "      \n",
    "    l2_error = y - l2  \n",
    "      \n",
    "    if (j% 10000) == 0:  \n",
    "        print (\"Error:\" + str(np.mean(np.abs(l2_error))) ) \n",
    "          \n",
    "     \n",
    "    l2_delta = l2_error*nonlin(l2,deriv=True)  \n",
    "  \n",
    "     \n",
    "    l1_error = l2_delta.dot(w1.T)  \n",
    "      \n",
    "      \n",
    "    l1_delta = l1_error * nonlin(l1,deriv=True)  \n",
    "  \n",
    "    w1 += l1.T.dot(l2_delta)  \n",
    "    w0 += l0.T.dot(l1_delta)  "
   ]
  },
  {
   "cell_type": "code",
   "execution_count": null,
   "metadata": {
    "collapsed": true
   },
   "outputs": [],
   "source": []
  }
 ],
 "metadata": {
  "anaconda-cloud": {},
  "kernelspec": {
   "display_name": "Python [default]",
   "language": "python",
   "name": "python3"
  },
  "language_info": {
   "codemirror_mode": {
    "name": "ipython",
    "version": 3
   },
   "file_extension": ".py",
   "mimetype": "text/x-python",
   "name": "python",
   "nbconvert_exporter": "python",
   "pygments_lexer": "ipython3",
   "version": "3.5.2"
  }
 },
 "nbformat": 4,
 "nbformat_minor": 1
}
