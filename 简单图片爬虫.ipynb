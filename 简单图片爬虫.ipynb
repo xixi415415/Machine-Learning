{
 "cells": [
  {
   "cell_type": "code",
   "execution_count": 4,
   "metadata": {
    "collapsed": false
   },
   "outputs": [
    {
     "name": "stdout",
     "output_type": "stream",
     "text": [
      "请输入你要搜索的图片关键字：景点\n",
      "正在查找 景点 对应的图片,下载中，请稍后......\n",
      "正在爬取URL地址：http://www.nmglyw.com/news/upl...\n",
      "正在爬取URL地址：http://file103.mafengwo.net/s8...\n",
      "正在爬取URL地址：http://imgsrc.baidu.com/imgad/...\n",
      "正在爬取URL地址：http://img1.gtimg.com/tj/pics/...\n",
      "正在爬取URL地址：http://imgsrc.baidu.com/imgad/...\n",
      "正在爬取URL地址：http://imgsrc.baidu.com/imgad/...\n",
      "正在爬取URL地址：http://imgsrc.baidu.com/imgad/...\n",
      "正在爬取URL地址：http://imgsrc.baidu.com/imgad/...\n",
      "正在爬取URL地址：http://imgsrc.baidu.com/imgad/...\n",
      "正在爬取URL地址：http://imgsrc.baidu.com/imgad/...\n",
      "正在爬取URL地址：http://imgsrc.baidu.com/imgad/...\n",
      "正在爬取URL地址：http://imgsrc.baidu.com/imgad/...\n",
      "正在爬取URL地址：http://5b0988e595225.cdn.sohuc...\n",
      "正在爬取URL地址：http://res.klook.com/images/fl...\n",
      "正在爬取URL地址：http://b2-q.mafengwo.net/s7/M0...\n",
      "正在爬取URL地址：http://pic111.huitu.com/res/20...\n",
      "正在爬取URL地址：http://imgsrc.baidu.com/imgad/...\n",
      "正在爬取URL地址：http://imgsrc.baidu.com/imgad/...\n",
      "正在爬取URL地址：http://imgsrc.baidu.com/imgad/...\n",
      "正在爬取URL地址：http://j3.s2.dpfile.com/pc/528...\n",
      "正在爬取URL地址：http://imgsrc.baidu.com/imgad/...\n",
      "正在爬取URL地址：http://imgsrc.baidu.com/imgad/...\n",
      "正在爬取URL地址：http://imgsrc.baidu.com/imgad/...\n",
      "正在爬取URL地址：http://imgsrc.baidu.com/image/...\n",
      "正在爬取URL地址：http://pic1.huitu.com/res/2011...\n",
      "正在爬取URL地址：http://imgsrc.baidu.com/imgad/...\n",
      "正在爬取URL地址：http://imgsrc.baidu.com/imgad/...\n",
      "正在爬取URL地址：http://imgsrc.baidu.com/imgad/...\n",
      "正在爬取URL地址：http://imgsrc.baidu.com/image/...\n",
      "正在爬取URL地址：http://imgsrc.baidu.com/imgad/...\n"
     ]
    }
   ],
   "source": [
    "#!-*- coding:utf-8 -*-\n",
    "#FileName : img.py\n",
    "#Author : CSDN_fzs\n",
    "#Data : 2018/01/10\n",
    " \n",
    "import re #导入正则表达式模块\n",
    "import requests #python HTTP客户端 编写爬虫和测试服务器经常用到的模块\n",
    "import random #随机生成一个数，范围[0,1]\n",
    " \n",
    "#定义函数方法\n",
    "def spiderPic(html,keyword):\n",
    "    print('正在查找 ' + keyword +' 对应的图片,下载中，请稍后......')\n",
    "    for addr in re.findall('\"objURL\":\"(.*?)\"',html,re.S):     #查找URL\n",
    "        print('正在爬取URL地址：'+str(addr)[0:30]+'...')  #爬取的地址长度超过30时，用'...'代替后面的内容\n",
    " \n",
    "        try:\n",
    "            pics = requests.get(addr,timeout=10)  #请求URL时间（最大10秒）\n",
    "        except requests.exceptions.ConnectionError:\n",
    "            print('您当前请求的URL地址出现错误')\n",
    "            continue\n",
    " \n",
    "        fq = open('D:\\\\img\\\\' + (keyword+'_'+str(random.randrange(0,1000,4))+'.jpg'),'wb')     #下载图片，并保存和命名\n",
    "        fq.write(pics.content)\n",
    "        fq.close()\n",
    " \n",
    "#python的主方法\n",
    "if __name__ == '__main__':\n",
    "    word = input('请输入你要搜索的图片关键字：')\n",
    "    result = requests.get('http://image.baidu.com/search/index?tn=baiduimage&ps=1&ct=201326592&lm=-1&cl=2&nc=1&ie=utf-8&word=' + word)\n",
    " \n",
    "#调用函数\n",
    "spiderPic(result.text,word)\n"
   ]
  },
  {
   "cell_type": "code",
   "execution_count": null,
   "metadata": {
    "collapsed": true
   },
   "outputs": [],
   "source": []
  }
 ],
 "metadata": {
  "kernelspec": {
   "display_name": "Python [conda root]",
   "language": "python",
   "name": "conda-root-py"
  },
  "language_info": {
   "codemirror_mode": {
    "name": "ipython",
    "version": 3
   },
   "file_extension": ".py",
   "mimetype": "text/x-python",
   "name": "python",
   "nbconvert_exporter": "python",
   "pygments_lexer": "ipython3",
   "version": "3.5.2"
  }
 },
 "nbformat": 4,
 "nbformat_minor": 1
}
