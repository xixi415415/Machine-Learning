{
 "cells": [
  {
   "cell_type": "code",
   "execution_count": 5,
   "metadata": {
    "collapsed": false
   },
   "outputs": [],
   "source": [
    "from sklearn import mixture\n",
    "import matplotlib.pyplot as plt\n",
    "import numpy as np\n",
    "\n",
    "\n",
    "#https://blog.csdn.net/weixin_35732969/article/details/81239172 \n",
    "# 预处理数据\n",
    "def loadData(filename):\n",
    "    dataSet = []\n",
    "    fr = open(filename)\n",
    "    for line in fr.readlines():\n",
    "        curLine = line.strip().split(' ')\n",
    "        fltLine = list(map(float, curLine))\n",
    "        dataSet.append(fltLine)\n",
    "    return dataSet\n",
    " "
   ]
  },
  {
   "cell_type": "code",
   "execution_count": 8,
   "metadata": {
    "collapsed": false
   },
   "outputs": [
    {
     "name": "stdout",
     "output_type": "stream",
     "text": [
      "<map object at 0x06C7E130>\n"
     ]
    }
   ],
   "source": [
    "x=map(lambda x,y:x+y, [1, 2], [1, 2])\n",
    "print(x)"
   ]
  },
  {
   "cell_type": "code",
   "execution_count": 12,
   "metadata": {
    "collapsed": false
   },
   "outputs": [
    {
     "data": {
      "image/png": "[encoded data removed]",
      "text/plain": [
       "<matplotlib.figure.Figure at 0x6d12ef0>"
      ]
     },
     "metadata": {},
     "output_type": "display_data"
    }
   ],
   "source": [
    "\n",
    "\n",
    "def test_GMM(dataMat, components=3,cov_type=\"full\"):\n",
    "    clst = mixture.GMM(n_components=n_components,covariance_type=cov_type)\n",
    "    clst.fit(dataMat)\n",
    "    predicted_labels =clst.predict(dataMat)\n",
    "    return clst.means_,predicted_labels     # clst.means_返回均值\n",
    "def showCluster(dataMat, k, centroids, clusterAssment):\n",
    "    numSamples, dim = dataMat.shape\n",
    "    if dim != 2:\n",
    "        print(\"Sorry! I can not draw because the dimension of your data is not 2!\")\n",
    "        return 1\n",
    "\n",
    "    mark = ['or', 'ob', 'og', 'ok', '^r', '+r', 'sr', 'dr', '<r', 'pr']\n",
    "    if k > len(mark):\n",
    "        print(\"Sorry! Your k is too large!\")\n",
    "        return 1\n",
    "\n",
    "        # draw all samples\n",
    "    for i in range(numSamples):\n",
    "        markIndex = int(clusterAssment[i])\n",
    "        plt.plot(dataMat[i, 0], dataMat[i, 1], mark[markIndex])\n",
    "\n",
    "    mark = ['Dr', 'Db', 'Dg', 'Dk', '^b', '+b', 'sb', 'db', '<b', 'pb']\n",
    "    # draw the centroids\n",
    "    for i in range(k):\n",
    "        plt.plot(centroids[i, 0], centroids[i, 1], mark[i], markersize=12)\n",
    "\n",
    "    plt.show()\n",
    "\n",
    "\n",
    "if __name__==\"__main__\":\n",
    "    dataMat = np.mat(loadData('watermelon4.txt'))\n",
    "    n_components = 3\n",
    "#  iter=100\n",
    "    cov_types = ['spherical', 'tied', 'diag', 'full']\n",
    "    centroids,labels = test_GMM(dataMat,n_components,cov_types[3])\n",
    "    showCluster(dataMat, n_components, centroids, labels)  # 这里labels维度改变了，注意修改showCluster方"
   ]
  },
  {
   "cell_type": "code",
   "execution_count": 13,
   "metadata": {
    "collapsed": false
   },
   "outputs": [
    {
     "name": "stderr",
     "output_type": "stream",
     "text": [
      "C:\\Users\\Administrator\\Anaconda3\\lib\\site-packages\\numpy\\core\\_methods.py:59: RuntimeWarning: Mean of empty slice.\n",
      "  warnings.warn(\"Mean of empty slice.\", RuntimeWarning)\n",
      "C:\\Users\\Administrator\\Anaconda3\\lib\\site-packages\\numpy\\core\\_methods.py:68: RuntimeWarning: invalid value encountered in true_divide\n",
      "  ret, rcount, out=ret, casting='unsafe', subok=False)\n"
     ]
    },
    {
     "name": "stdout",
     "output_type": "stream",
     "text": [
      "[[ 1.          0.99999787]\n",
      " [ 1.          0.99999998]\n",
      " [ 1.          0.99934633]\n",
      " [ 1.          0.97750401]\n",
      " [ 2.          0.53614749]\n",
      " [ 0.          0.9758896 ]\n",
      " [ 2.          0.6293604 ]\n",
      " [ 0.          0.79551425]\n",
      " [ 1.          0.99999507]\n",
      " [ 0.          1.        ]\n",
      " [ 0.          1.        ]\n",
      " [ 0.          0.99999615]\n",
      " [ 1.          0.99986769]\n",
      " [ 1.          0.99996254]\n",
      " [ 0.          0.99581211]\n",
      " [ 1.          0.99843098]\n",
      " [ 1.          0.99999978]\n",
      " [ 0.          0.99988441]\n",
      " [ 0.          0.99997522]\n",
      " [ 0.          0.99999999]\n",
      " [ 1.          0.99999988]\n",
      " [ 1.          0.99999894]\n",
      " [ 2.          0.91053058]\n",
      " [ 2.          0.98222592]\n",
      " [ 2.          0.97777788]\n",
      " [ 1.          0.99999997]\n",
      " [ 2.          0.99409233]\n",
      " [ 2.          0.94574013]\n",
      " [ 1.          0.99999969]\n",
      " [ 2.          0.95820909]]\n"
     ]
    },
    {
     "data": {
      "image/png": "[encoded data removed]",
      "text/plain": [
       "<matplotlib.figure.Figure at 0x757e1b0>"
      ]
     },
     "metadata": {},
     "output_type": "display_data"
    }
   ],
   "source": [
    " import numpy as np\n",
    "    \n",
    " import matplotlib.pyplot as plt\n",
    "\n",
    " # 预处理数据\n",
    " def loadData(filename):\n",
    "     dataSet = []\n",
    "     fr = open(filename)\n",
    "     for line in fr.readlines():\n",
    "         curLine = line.strip().split(' ')\n",
    "         fltLine = list(map(float, curLine))\n",
    "         dataSet.append(fltLine)\n",
    "     return dataSet\n",
    "\n",
    " # 高斯分布的概率密度函数\n",
    " def prob(x, mu, sigma):\n",
    "     n = np.shape(x)[1]\n",
    "     expOn = float(-0.5 * (x - mu) * (sigma.I) * ((x - mu).T))\n",
    "     divBy = pow(2 * np.pi, n / 2) * pow(np.linalg.det(sigma), 0.5)  # np.linalg.det 计算矩阵的行列式\n",
    "     return pow(np.e, expOn) / divBy\n",
    "\n",
    " # EM算法\n",
    " def EM(dataMat, maxIter=50):\n",
    "     m, n = np.shape(dataMat)\n",
    "     # 1.初始化各高斯混合成分参数\n",
    "     alpha = [1 / 3, 1 / 3, 1 / 3]   # 1.1初始化 alpha1=alpha2=alpha3=1/3\n",
    "     mu = [dataMat[5, :], dataMat[21, :], dataMat[26, :]] # 1.2初始化 mu1=x6,mu2=x22,mu3=x27\n",
    "     sigma = [np.mat([[0.1, 0], [0, 0.1]]) for x in range(3)]    # 1.3初始化协方差矩阵\n",
    "     gamma = np.mat(np.zeros((m, 3)))\n",
    "     for i in range(maxIter):\n",
    "         for j in range(m):\n",
    "             sumAlphaMulP = 0\n",
    "             for k in range(3):\n",
    "                 gamma[j, k] = alpha[k] * prob(dataMat[j, :], mu[k], sigma[k]) # 4.计算混合成分生成的后验概率，即gamma\n",
    "                 sumAlphaMulP += gamma[j, k]\n",
    "             for k in range(3):\n",
    "                 gamma[j, k] /= sumAlphaMulP\n",
    "         sumGamma = np.sum(gamma, axis=0)\n",
    "\n",
    "         for k in range(3):\n",
    "             mu[k] = np.mat(np.zeros((1, n)))\n",
    "             sigma[k] = np.mat(np.zeros((n, n)))\n",
    "             for j in range(m):\n",
    "                 mu[k] += gamma[j, k] * dataMat[j, :]\n",
    "             mu[k] /= sumGamma[0, k] #  7.计算新均值向量\n",
    "             for j in range(m):\n",
    "                 sigma[k] += gamma[j, k] * (dataMat[j, :] - mu[k]).T *(dataMat[j, :] - mu[k])\n",
    "             sigma[k] /= sumGamma[0, k]  # 8. 计算新的协方差矩阵\n",
    "             alpha[k] = sumGamma[0, k] / m   # 9. 计算新混合系数\n",
    "             # print(mu)\n",
    "     return gamma\n",
    "\n",
    "\n",
    " # init centroids with random samples\n",
    " def initCentroids(dataMat, k):\n",
    "     numSamples, dim = dataMat.shape\n",
    "     centroids = np.zeros((k, dim))\n",
    "     for i in range(k):\n",
    "         index = int(np.random.uniform(0, numSamples))\n",
    "         centroids[i, :] = dataMat[index, :]\n",
    "     return centroids\n",
    "\n",
    "\n",
    " def gaussianCluster(dataMat):\n",
    "     m, n = np.shape(dataMat)\n",
    "     centroids = initCentroids(dataMat, m)  ## step 1: init centroids\n",
    "     clusterAssign = np.mat(np.zeros((m, 2)))\n",
    "     gamma = EM(dataMat)\n",
    "     for i in range(m):\n",
    "         # amx返回矩阵最大值，argmax返回矩阵最大值所在下标\n",
    "         clusterAssign[i, :] = np.argmax(gamma[i, :]), np.amax(gamma[i, :])  # 15.确定x的簇标记lambda\n",
    "         ## step 4: update centroids\n",
    "     for j in range(m):\n",
    "         pointsInCluster = dataMat[np.nonzero(clusterAssign[:, 0].A == j)[0]]\n",
    "         centroids[j, :] = np.mean(pointsInCluster, axis=0)  # 计算出均值向量\n",
    "     return centroids, clusterAssign\n",
    "\n",
    "\n",
    " def showCluster(dataMat, k, centroids, clusterAssment):\n",
    "     numSamples, dim = dataMat.shape\n",
    "     if dim != 2:\n",
    "         print(\"Sorry! I can not draw because the dimension of your data is not 2!\")\n",
    "         return 1\n",
    "\n",
    "     mark = ['or', 'ob', 'og', 'ok', '^r', '+r', 'sr', 'dr', '<r', 'pr']\n",
    "     if k > len(mark):\n",
    "         print(\"Sorry! Your k is too large!\")\n",
    "         return 1\n",
    "\n",
    "         # draw all samples\n",
    "     for i in range(numSamples):\n",
    "         markIndex = int(clusterAssment[i, 0])\n",
    "         plt.plot(dataMat[i, 0], dataMat[i, 1], mark[markIndex])\n",
    "\n",
    "     mark = ['Dr', 'Db', 'Dg', 'Dk', '^b', '+b', 'sb', 'db', '<b', 'pb']\n",
    "     # draw the centroids\n",
    "     for i in range(k):\n",
    "         plt.plot(centroids[i, 0], centroids[i, 1], mark[i], markersize=12)\n",
    "\n",
    "     plt.show()\n",
    "\n",
    " if __name__==\"__main__\":\n",
    "     dataMat = np.mat(loadData('watermelon4.txt'))\n",
    "     centroids, clusterAssign = gaussianCluster(dataMat)\n",
    "     print(clusterAssign)\n",
    "     showCluster(dataMat, 3, centroids, clusterAssign)"
   ]
  },
  {
   "cell_type": "code",
   "execution_count": null,
   "metadata": {
    "collapsed": true
   },
   "outputs": [],
   "source": []
  }
 ],
 "metadata": {
  "kernelspec": {
   "display_name": "Python [default]",
   "language": "python",
   "name": "python3"
  },
  "language_info": {
   "codemirror_mode": {
    "name": "ipython",
    "version": 3
   },
   "file_extension": ".py",
   "mimetype": "text/x-python",
   "name": "python",
   "nbconvert_exporter": "python",
   "pygments_lexer": "ipython3",
   "version": "3.5.2"
  }
 },
 "nbformat": 4,
 "nbformat_minor": 1
}
